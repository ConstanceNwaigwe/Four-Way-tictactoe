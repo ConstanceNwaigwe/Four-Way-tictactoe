#Constance Nwaigwe, The programmer

#This is a four way tic tac toe game. To play you must enter a column and a row to place your X or O.

print("Instructions:\n To enter X or O in this tic tac toe game, players must choose the appropiate column(0-3) and row(1-4)")
print("\n")
displayXO = [['0','X','X','X','O'],
              ['1','X','X','O','O'],
              ['2','X','O','X','O'],
              ['3','O','O','O','X']]
emptyXO = [['0',' ',' ',' ',' '],
           ['1',' ',' ',' ',' '],
           ['2',' ',' ',' ',' '],
           ['3',' ',' ',' ',' ']]


def creat_board(firboard):
  print("    1   2   3   4")
  for row in firboard:
    print(' | '.join(row))
    print("--------------------")
    

creat_board(displayXO)

def display_board(secboard):

  print("    1   2   3   4")
  for row in secboard:
    print(' | '.join(row))
    print("--------------------")
display_board(emptyXO)

    

def check_winner():
  turn = 'X'
  count = 0
  while count < 16:
    print(turn,"It's your turn")
    
    colpick = input("Pick a column: 0, 1, 2, or 3: ")
    rowpick = input("Pick a row: 1, 2, 3, or 4: ")
    
    try:
      colpick = int(colpick)
      rowpick = int(rowpick)
      while emptyXO[colpick][rowpick] != ' ':
        print("This Position Is Taken.",turn, "Try Again")
        colpick = input("Pick a column: 0, 1, 2, or 3: ")
        rowpick = input("Pick a row: 1, 2, 3, or 4: ")
        
        colpick = int(colpick)
        rowpick = int(rowpick)
        
      if emptyXO[colpick][rowpick] == ' ':
        emptyXO[colpick][rowpick] = turn
        display_board(emptyXO)
      else:
        print("This Position Is Taken. Try Again")
    except:
      print("Error!", turn, "Try again")
    
    while isinstance(colpick,str) or isinstance(rowpick,str) or rowpick > 4 or rowpick < 0 or colpick > 3 or colpick < 0 :
        
        colpick = input("Pick a column: 0, 1, 2, or 3: ")
        rowpick = input("Pick a row: 1, 2, 3, or 4: ")
    
        try:
          colpick = int(colpick)
          rowpick = int(rowpick)
          while emptyXO[colpick][rowpick] != ' ':
            print("This Position Is Taken.",turn, "Try Again")
            colpick = input("Pick a column: 0, 1, 2, or 3: ")
            rowpick = input("Pick a row: 1, 2, 3, or 4: ")
            
            colpick = int(colpick)
            rowpick = int(rowpick)
            
          if emptyXO[colpick][rowpick] == ' ':
            emptyXO[colpick][rowpick] = turn
            display_board(emptyXO)
          else:
            print("This Position Is Taken. Try Again")
        except:
          print("Error!", turn, "Try again")
    
    if count >= 1 and count <= 15:
        if emptyXO[0][1] == emptyXO[0][2] == emptyXO[0][3] == emptyXO[0][4] != ' ':
          display_board(emptyXO)
          print("\n Game Over \n")
          print(turn, "is the winner")
          break
        elif emptyXO[1][4] == emptyXO[1][1] == emptyXO[1][2] == emptyXO[1][3] != ' ':
          display_board(emptyXO)
          print("\n Game Over \n")
          print(turn, "is the winner")
          break
        elif emptyXO[2][4] == emptyXO[2][1] == emptyXO[2][2] == emptyXO[2][3] != ' ':
          display_board(emptyXO)
          print("\n Game Over \n")
          print(turn, "is the winner")
          break
        elif emptyXO[3][4] == emptyXO[3][1] == emptyXO[3][2] == emptyXO[3][3] != ' ':
          display_board(emptyXO)
          print("\n Game Over \n")
          print(turn, "is the winner")
          break
        elif emptyXO[0][1] == emptyXO[1][1] == emptyXO[2][1] == emptyXO[3][1] != ' ':
          display_board(emptyXO)
          print("\n Game Over \n")
          print(turn, "is the winner")
          break
        elif emptyXO[0][2] == emptyXO[1][2] == emptyXO[2][2] == emptyXO[3][2] != ' ':
          display_board(emptyXO)
          print("\n Game Over \n")
          print(turn, "is the winner")
          break
        elif emptyXO[0][3] == emptyXO[1][3] == emptyXO[2][3] == emptyXO[3][3] != ' ':
          display_board(emptyXO)
          print("\n Game Over \n")
          print(turn, "is the winner")
          break
        elif emptyXO[0][4] == emptyXO[1][4] == emptyXO[2][4] == emptyXO[3][4] != ' ':
          display_board(emptyXO)
          print("\n Game Over \n")
          print(turn, "is the winner")
          break
        elif emptyXO[0][1] == emptyXO[1][2] == emptyXO[2][3] == emptyXO[3][4] != ' ':
          display_board(emptyXO)
          print("\n Game Over \n")
          print(turn, "is the winner")
          break
        elif emptyXO[3][1] == emptyXO[2][2] == emptyXO[1][3] == emptyXO[0][4] != ' ':
          display_board(emptyXO)
          print("\n Game Over \n")
          print(turn, "is the winner")
          break

    if count == 15:
        print("\n Game Over \n")
        print("It is a Tie")
        break
    
    if turn == 'X':
      turn = 'O'
    else:
      turn = 'X'
    
    count += 1
check_winner()

restart = input("Would You like to play again(Y or N): ")
while restart == 'y' or restart == 'Y':
    emptyXO = [['0',' ',' ',' ',' '],
           ['1',' ',' ',' ',' '],
           ['2',' ',' ',' ',' '],
           ['3',' ',' ',' ',' ']]
    creat_board(displayXO)
    display_board(emptyXO)
    check_winner()
    restart = input("Would You like to play again(Y or N): ")
if restart != 'y' or  restart != 'Y':
    print("Thanks for playing")
    
    
